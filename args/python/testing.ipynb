{
 "cells": [
  {
   "cell_type": "code",
   "execution_count": 1,
   "id": "7c7ab7f5-b6c6-4f3c-a125-b94e4afd7c66",
   "metadata": {},
   "outputs": [
    {
     "name": "stdout",
     "output_type": "stream",
     "text": [
      "hello world\n"
     ]
    }
   ],
   "source": [
    "print(\"hello world\")"
   ]
  },
  {
   "cell_type": "code",
   "execution_count": 3,
   "id": "f610dc1c-bbcd-4791-84b6-ad8e075c700b",
   "metadata": {},
   "outputs": [],
   "source": [
    "def main():\n",
    "    print(\"hello this is main\")"
   ]
  },
  {
   "cell_type": "code",
   "execution_count": 4,
   "id": "10114c42-37d0-48ba-a3a1-675c9efbb6bc",
   "metadata": {},
   "outputs": [
    {
     "name": "stdout",
     "output_type": "stream",
     "text": [
      "hello this is main\n"
     ]
    }
   ],
   "source": [
    "main()"
   ]
  },
  {
   "cell_type": "code",
   "execution_count": 5,
   "id": "89946280-e76a-40fa-b598-e672fd8d41e0",
   "metadata": {},
   "outputs": [],
   "source": [
    "def test(arg):\n",
    "    print(arg)"
   ]
  },
  {
   "cell_type": "code",
   "execution_count": 6,
   "id": "c4069891-6b5a-4cb2-97d1-e3ab2ec079d7",
   "metadata": {},
   "outputs": [
    {
     "name": "stdout",
     "output_type": "stream",
     "text": [
      "hello test arg\n"
     ]
    }
   ],
   "source": [
    "test(\"hello test arg\")"
   ]
  },
  {
   "cell_type": "code",
   "execution_count": null,
   "id": "0c798302-cdf6-4617-8f28-28809796f7a7",
   "metadata": {},
   "outputs": [],
   "source": []
  }
 ],
 "metadata": {
  "kernelspec": {
   "display_name": "Python 3 (ipykernel)",
   "language": "python",
   "name": "python3"
  },
  "language_info": {
   "codemirror_mode": {
    "name": "ipython",
    "version": 3
   },
   "file_extension": ".py",
   "mimetype": "text/x-python",
   "name": "python",
   "nbconvert_exporter": "python",
   "pygments_lexer": "ipython3",
   "version": "3.9.6"
  }
 },
 "nbformat": 4,
 "nbformat_minor": 5
}
